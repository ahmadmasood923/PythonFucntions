{
 "cells": [
  {
   "cell_type": "markdown",
   "id": "9ecf4fa1-d59d-4220-8daa-c46ab650c2be",
   "metadata": {},
   "source": [
    "# Ques 1:"
   ]
  },
  {
   "cell_type": "markdown",
   "id": "7cdbd080-a728-40df-a2c5-f1d31fdc98cf",
   "metadata": {},
   "source": [
    "## Ans: 'def' keyword is used to create a function."
   ]
  },
  {
   "cell_type": "code",
   "execution_count": 2,
   "id": "329434d1-ca4b-4541-b440-764e576b319d",
   "metadata": {},
   "outputs": [
    {
     "data": {
      "text/plain": [
       "[1, 3, 5, 7, 9, 11, 13, 15, 17, 19, 21, 23]"
      ]
     },
     "execution_count": 2,
     "metadata": {},
     "output_type": "execute_result"
    }
   ],
   "source": [
    "# Example of a function\n",
    "def ret_list(l1):\n",
    "    l2 = []\n",
    "    for items in l1:\n",
    "        if items%2!=0:\n",
    "            l2.append(items)\n",
    "    return l2\n",
    "ret_list(list(range(1, 25)))"
   ]
  },
  {
   "cell_type": "markdown",
   "id": "2c8d3b8c-f3d7-41c3-b126-cdd0f44a5fff",
   "metadata": {},
   "source": [
    "# Ques 2:"
   ]
  },
  {
   "cell_type": "markdown",
   "id": "67b6c500-63aa-4d40-b518-b532e6045b1a",
   "metadata": {},
   "source": [
    "## Ans: *args is used where we have to pass n number of arguments in a function. The function will return all the inputs in a tuple.\n",
    "##      **kargs is used when we want to pass a key value pair in a function. The function will return a dictionary as output."
   ]
  },
  {
   "cell_type": "code",
   "execution_count": 3,
   "id": "150c2532-551b-451d-8329-8c3d549fd0b5",
   "metadata": {},
   "outputs": [
    {
     "data": {
      "text/plain": [
       "(1, 2, 3, 4)"
      ]
     },
     "execution_count": 3,
     "metadata": {},
     "output_type": "execute_result"
    }
   ],
   "source": [
    "# function using *args\n",
    "def test1(*args):\n",
    "    return args\n",
    "test1(1, 2, 3, 4)"
   ]
  },
  {
   "cell_type": "code",
   "execution_count": 5,
   "id": "46a85336-3a99-47ba-a0ac-d9251c94f815",
   "metadata": {},
   "outputs": [
    {
     "data": {
      "text/plain": [
       "{'a': 1, 'b': 2, 'c': 'Masood'}"
      ]
     },
     "execution_count": 5,
     "metadata": {},
     "output_type": "execute_result"
    }
   ],
   "source": [
    "# function using **kwargs\n",
    "def test2(**kwargs):\n",
    "    return kwargs\n",
    "test2(a=1, b=2, c='Masood')"
   ]
  },
  {
   "cell_type": "markdown",
   "id": "a7d9b7da-984e-4cfa-bb8b-61f83236390c",
   "metadata": {},
   "source": [
    "# Ques 3:\n"
   ]
  },
  {
   "cell_type": "markdown",
   "id": "7fdf0dab-8c20-4bb3-b5e8-819ff6ec202b",
   "metadata": {},
   "source": [
    "# Ans: An iterator is an object that contains countable number of values. An iterator is an object that can be iterated upon, meaning you can traverse through all the values. Technically, in Python, an iterator is an object which implements the iterator protocol, which consist of the methods '__iter__()' and '__next__()'."
   ]
  },
  {
   "cell_type": "code",
   "execution_count": 8,
   "id": "7b3631c6-7d5c-4468-97de-f4f042dc4356",
   "metadata": {},
   "outputs": [
    {
     "name": "stdout",
     "output_type": "stream",
     "text": [
      "2\n",
      "4\n",
      "6\n",
      "8\n",
      "10\n"
     ]
    }
   ],
   "source": [
    "list1 = [2, 4, 6, 8, 10, 12, 14, 16, 18, 20]\n",
    "list2 = iter(list1)\n",
    "print(next(list2))\n",
    "print(next(list2))\n",
    "print(next(list2))\n",
    "print(next(list2))\n",
    "print(next(list2))\n",
    "# for i in range(5):   --> We can use this code as well in place of the 5 print functions that we have written\n",
    "#     print(next(list2))"
   ]
  },
  {
   "cell_type": "markdown",
   "id": "fcea1745-0465-4823-a4fd-97205dda0ee0",
   "metadata": {},
   "source": [
    "# Ques 4:"
   ]
  },
  {
   "cell_type": "markdown",
   "id": "ed16ef58-0b04-4693-8cf2-691e4ac9ce8a",
   "metadata": {},
   "source": [
    "## Ans: A generator is a function that returns an iterator that produce a sequence of value when iterated over. Generators are useful when we want to produce a large sequence of values, but we don't want to store all of them in memory at once. Generator function is defined in the same way as a normal function is defined but instead of 'return' we use 'yield' here.\n",
    "## Here 'yield' keyword is used to produce a value from the generator."
   ]
  },
  {
   "cell_type": "code",
   "execution_count": 18,
   "id": "ca7b5379-514b-43f9-9490-4697e54c59ba",
   "metadata": {},
   "outputs": [
    {
     "name": "stdout",
     "output_type": "stream",
     "text": [
      "0\n",
      "1\n",
      "1\n",
      "2\n",
      "3\n",
      "5\n",
      "8\n",
      "13\n",
      "21\n",
      "34\n"
     ]
    }
   ],
   "source": [
    "# lets create a Fibonacci series using generator function\n",
    "def fib_generator(n):\n",
    "    a, b = 0,1 \n",
    "    value = 0\n",
    "    while value<n:\n",
    "        yield a\n",
    "        a, b= b, a+b\n",
    "        value+=1\n",
    "for i in fib_generator(10):\n",
    "    print(i)"
   ]
  },
  {
   "cell_type": "markdown",
   "id": "b46595d9-acc2-478a-8b28-37d713b3f1b4",
   "metadata": {},
   "source": [
    "# Ques 5:"
   ]
  },
  {
   "cell_type": "code",
   "execution_count": 24,
   "id": "1676a213-38c4-4b47-a184-96fce80cd0d5",
   "metadata": {},
   "outputs": [
    {
     "name": "stdout",
     "output_type": "stream",
     "text": [
      "2\n",
      "3\n",
      "5\n",
      "7\n",
      "11\n",
      "13\n",
      "17\n",
      "19\n",
      "23\n",
      "29\n",
      "31\n",
      "37\n",
      "41\n",
      "43\n",
      "47\n",
      "53\n",
      "59\n",
      "61\n",
      "67\n",
      "71\n"
     ]
    }
   ],
   "source": [
    "def prime_num(n):\n",
    "    for i in range(2, n+1):\n",
    "            for j in range(2, i):\n",
    "                if (i%j)==0:\n",
    "                    break\n",
    "            else:\n",
    "                yield i\n",
    "counter = 0\n",
    "for i in prime_num(1000):\n",
    "    print(i)\n",
    "    counter+=1\n",
    "    if counter>=20:\n",
    "        break"
   ]
  },
  {
   "cell_type": "markdown",
   "id": "c3217407-3fa2-44f2-ae6a-b415d6fcf1ea",
   "metadata": {},
   "source": [
    "# Ques 6:"
   ]
  },
  {
   "cell_type": "code",
   "execution_count": null,
   "id": "a782c7aa-a4b4-41c7-b0c7-55d23fddb3ed",
   "metadata": {},
   "outputs": [],
   "source": [
    "# First 10 Fibonacci numbers using while loop\n",
    "a = 0\n",
    "b = 1\n",
    "i = 0\n",
    "while i<10:\n",
    "    print(a)\n",
    "    a,b=b,a+b\n",
    "    i+=1"
   ]
  },
  {
   "cell_type": "markdown",
   "id": "782cef2e-f2d7-48ee-b576-ea4962179cb3",
   "metadata": {},
   "source": [
    "# Ques 7:"
   ]
  },
  {
   "cell_type": "code",
   "execution_count": null,
   "id": "32756ef5-cbec-4903-9d42-dc1106f57339",
   "metadata": {},
   "outputs": [],
   "source": [
    "str1 = 'pwskills'\n",
    "l1 = [i for i in str1]\n",
    "print(l1)"
   ]
  },
  {
   "cell_type": "markdown",
   "id": "aa7e28ad-844b-4fe4-8751-b0ccfa230e2c",
   "metadata": {},
   "source": [
    "# Ques 8:"
   ]
  },
  {
   "cell_type": "code",
   "execution_count": null,
   "id": "59daaf8b-3fee-4405-9714-1194e3b5c07d",
   "metadata": {},
   "outputs": [],
   "source": [
    "num = int(input(\"Enter a number: \"))\n",
    "original = num\n",
    "rev_num=0\n",
    "while num!=0:\n",
    "    dig = num%10\n",
    "    rev_num = rev_num*10 + dig\n",
    "    num = num//10\n",
    "if rev_num == original:\n",
    "    print(original,\"is a palindrome\")\n",
    "else:\n",
    "    print(original, \"is not a palindrome\")"
   ]
  },
  {
   "cell_type": "markdown",
   "id": "e9b71106-ba07-4615-9125-ae412bfe446b",
   "metadata": {},
   "source": [
    "# Ques 9:"
   ]
  },
  {
   "cell_type": "code",
   "execution_count": null,
   "id": "6cc6890c-476a-49cf-af46-1b41e7b9c3b6",
   "metadata": {},
   "outputs": [],
   "source": [
    "l1 = list(range(1, 101))\n",
    "l2 = [i for i in l1 if i%2!=0]\n",
    "print(l2)"
   ]
  }
 ],
 "metadata": {
  "kernelspec": {
   "display_name": "Python 3 (ipykernel)",
   "language": "python",
   "name": "python3"
  },
  "language_info": {
   "codemirror_mode": {
    "name": "ipython",
    "version": 3
   },
   "file_extension": ".py",
   "mimetype": "text/x-python",
   "name": "python",
   "nbconvert_exporter": "python",
   "pygments_lexer": "ipython3",
   "version": "3.10.8"
  }
 },
 "nbformat": 4,
 "nbformat_minor": 5
}
